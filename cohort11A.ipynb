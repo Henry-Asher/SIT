{
 "cells": [
  {
   "cell_type": "code",
   "execution_count": 1,
   "metadata": {},
   "outputs": [],
   "source": [
    "import numpy as np\n",
    "import os\n",
    "from SIT.sit_fxs import *"
   ]
  },
  {
   "cell_type": "code",
   "execution_count": 2,
   "metadata": {},
   "outputs": [],
   "source": [
    "\n",
    "f_path = r\"C:\\Users\\henry\\Documents\\CornellDataAnalysis\\DataFiles\\SI\\Cohort11A\\M_noStim_stress\"\n",
    "data = temp_master(f_path)\n",
    "to_excel(data, r\"C:\\Users\\henry\\Documents\\CornellDataAnalysis\\DataFiles\\SI\\Cohort11A\\Results\\M_noStim_stress.csv\")\n",
    "\n",
    "f_path = r\"C:\\Users\\henry\\Documents\\CornellDataAnalysis\\DataFiles\\SI\\Cohort11A\\M_stimInhib_stress\"\n",
    "data = temp_master(f_path)\n",
    "to_excel(data, r\"C:\\Users\\henry\\Documents\\CornellDataAnalysis\\DataFiles\\SI\\Cohort11A\\Results\\M_stimInhib_stress.csv\")\n",
    "\n",
    "\n",
    "f_path = r\"C:\\Users\\henry\\Documents\\CornellDataAnalysis\\DataFiles\\SI\\Cohort11A\\F_noStim_stress\"\n",
    "data = temp_master(f_path)\n",
    "to_excel(data, r\"C:\\Users\\henry\\Documents\\CornellDataAnalysis\\DataFiles\\SI\\Cohort11A\\Results\\F_noStim_stress.csv\")\n",
    "\n",
    "\n",
    "f_path = r\"C:\\Users\\henry\\Documents\\CornellDataAnalysis\\DataFiles\\SI\\Cohort11A\\F_stimInhib_stress\"\n",
    "data = temp_master(f_path)\n",
    "to_excel(data, r\"C:\\Users\\henry\\Documents\\CornellDataAnalysis\\DataFiles\\SI\\Cohort11A\\Results\\F_stimInhib_stress.csv\")\n",
    "\n",
    "\n",
    "\n",
    "\n",
    "\n"
   ]
  },
  {
   "cell_type": "code",
   "execution_count": null,
   "metadata": {},
   "outputs": [],
   "source": []
  }
 ],
 "metadata": {
  "kernelspec": {
   "display_name": "Python 3.10.6 ('ImgProcessing')",
   "language": "python",
   "name": "python3"
  },
  "language_info": {
   "codemirror_mode": {
    "name": "ipython",
    "version": 3
   },
   "file_extension": ".py",
   "mimetype": "text/x-python",
   "name": "python",
   "nbconvert_exporter": "python",
   "pygments_lexer": "ipython3",
   "version": "3.10.6"
  },
  "orig_nbformat": 4,
  "vscode": {
   "interpreter": {
    "hash": "cba35d6e1752e0a5e98a21ad33924a3a0c9c497cf0621886f9d0eb220e824503"
   }
  }
 },
 "nbformat": 4,
 "nbformat_minor": 2
}
